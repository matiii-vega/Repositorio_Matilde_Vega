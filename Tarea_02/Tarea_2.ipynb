{
  "nbformat": 4,
  "nbformat_minor": 0,
  "metadata": {
    "colab": {
      "provenance": []
    },
    "kernelspec": {
      "name": "python3",
      "display_name": "Python 3"
    },
    "language_info": {
      "name": "python"
    }
  },
  "cells": [
    {
      "cell_type": "code",
      "execution_count": null,
      "metadata": {
        "id": "R7Bx8ApDRtYD"
      },
      "outputs": [],
      "source": [
        "# Hacer un programa que imprima los números del -100 al 200.\n",
        "numero_inicial = -100\n",
        "numero_final = 201\n",
        "lista = range (numero_inicial, numero_final)\n",
        "for i in lista:\n",
        "  print(i)"
      ]
    },
    {
      "cell_type": "code",
      "source": [
        "# Hacer un programa que imprima los números del -100 al 200 que sean divisibles entre 6 (con resto 0)\n",
        "numero_inicial = -100\n",
        "numero_final = 201\n",
        "lista = range (numero_inicial,numero_final)\n",
        "for i in lista:\n",
        "  if i % 6 == 0:\n",
        "    print(i)"
      ],
      "metadata": {
        "id": "9IFM48jdT9Uy"
      },
      "execution_count": null,
      "outputs": []
    },
    {
      "cell_type": "code",
      "source": [
        "#Realiza el algoritmo para un sumador de dos números. Si el resultado es menor a 200 se mostrará el mensaje \"menor a 200\", si el resultado es mayor a 200, pero menor a 250 mostrará el mensaje \"mayor a 200\", pero si es mayor a 250 mostrará el mensaje \"mayor a 250\".\n",
        "numero1 = int(input(\"ingrese el primer numero:\"))\n",
        "numero2 = int(input(\"ingrese el segundo numero:\"))\n",
        "suma = numero1 + numero2\n",
        "print(suma)\n",
        "\n",
        "if suma < 200:\n",
        "  resultado = (\"menor a 200\")\n",
        "elif 200 < suma < 250:\n",
        "  resultado = (\"es mayor a 200 y menor a 250\")\n",
        "else:\n",
        "  resultado = (\"es mayor a 250\")\n",
        "print(resultado)"
      ],
      "metadata": {
        "id": "YViJ60azVtv7"
      },
      "execution_count": null,
      "outputs": []
    },
    {
      "cell_type": "code",
      "source": [
        "# Hacer una función que evalúe si el usuario es mayor de edad y si le gusta la música urbana, que envíe diferentes textos según la respuesta del usuario\n",
        "edad = int(input(\"ingrese su edad:\"))\n",
        "gusta_musica_urbana = input(\"¿Te gusta la música urbana? (si/no:) \")\n",
        "def evaluar_usuario(edad,gusta_musica_urbana):\n",
        " if edad >= 18 and gusta_musica_urbana.lower() == \"si\":\n",
        "  return \"Eres mayor de edad y te gusta la musica urbana\"\n",
        " else:\n",
        "   return \"No eres mayor de edad y/o no te gusta la música urbana\"\n",
        "print(evaluar_usuario(edad,gusta_musica_urbana))\n"
      ],
      "metadata": {
        "id": "7d81T9vRZiQY"
      },
      "execution_count": null,
      "outputs": []
    }
  ]
}